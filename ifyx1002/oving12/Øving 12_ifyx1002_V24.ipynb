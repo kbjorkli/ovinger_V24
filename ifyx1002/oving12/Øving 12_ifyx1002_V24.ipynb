{
 "cells": [
  {
   "cell_type": "markdown",
   "metadata": {},
   "source": [
    "# Øving 12\n",
    "## Oppgave 1\n",
    "To lange, parallelle ledninger henger i lette snorer med lengde $L=5,0 \\textrm{ cm}$. Hver ledning har en masse per lengdeenhet på $\\lambda= 30 \\textrm{ g/m}$, og de fører begge en identisk strøm $I$ i motsatte retninger. Se figuren under.\n",
    "\n",
    "<center><img src=\"figurer/oppgave_magnetkraft_mellom_hengende_ledere.png\" alt=\"\" style=\"width: 600px;\"/></center>\n",
    "\n",
    "Hva er strømmen $I$ i hver leder dersom vinkelen mellom snorene er $\\theta=12^{\\circ}$ (dvs. vinkelen mellom hver snor og vertikalretningen er $\\frac{\\theta}{2}$)?"
   ]
  },
  {
   "cell_type": "markdown",
   "metadata": {},
   "source": [
    "## Oppgave 2\n",
    "En primitiv likestrømsmotor består av en kvadratisk ledersløyfe med sidelengde $a=10 \\textrm{ cm}$ plassert i et homogent magnetfelt med feltstyrke/flukstetthet $B=0,50 \\textrm{ T}$ og retning mot høyre. Ved $t = 0$ er magnetfeltet parallellt med planet til sløyfa, idet sløyfa tilkobles et batteri slik at det går en konstant strøm $I=10 \\textrm{ A}$ i sløyfa. Sløyfa er opplagret slik at den kan rotere om midtpunktet. Se figuren under. \n",
    "\n",
    "<center><img src=\"figurer/oppgave_strømsløyfe_elektromotor.png\" alt=\"\" style=\"width: 600px;\"/></center>\n",
    "\n",
    "a) Bestem absoluttverdien av magnetkrafta på hver av de to sidene som er parallelle med magnetfeltet.\n",
    "\n",
    "b) Bestem absoluttverdien av magnetkrafta på hver av de to sidene som står vinkelrett på magnetfelet.\n",
    "\n",
    "c) Bestem absoluttverdien av den totale magnetkrafta på sløyfa. \n",
    "\n",
    "d) Bestem dreiemomentet $\\tau$ på sløyfa som funksjon av vinkelen $\\phi$ mellom magnetfeltet og sløyfas normalvektor, dvs. bestem $\\tau(\\phi)$.\n",
    "\n",
    "<div style=\"page-break-after: always;\"></div>\n"
   ]
  },
  {
   "cell_type": "markdown",
   "metadata": {},
   "source": [
    "## Oppgave 3\n",
    "Gitt to lange, parallelle ledere som fører en identisk strøm $I$ med samme retning, som vist på figuren under.\n",
    "\n",
    "<center><img src=\"figurer/oppgave_magnetfelt_rundt_parallelle_ledere.png\" alt=\"\" style=\"width: 130px;\"/></center>\n",
    "\n",
    "Bestem magnetfeltet i de to angitte punktene på figurene:\n",
    "\n",
    "a)\t$\\textrm{P}_\\textrm{1}$, som ligger i samme avstand $a$ fra hver leder\n",
    "\n",
    "b) $\\textrm{P}_\\textrm{2}$, som ligger i avstand $2a$ fra den nederste lederen.\n"
   ]
  },
  {
   "cell_type": "markdown",
   "metadata": {},
   "source": [
    "## Oppgave 4\n",
    "En primitiv generator er utformet $N$ vindinger av rektangulære ledersløyfer med areal $A$ som roterer i et konstant, homogent ytre magnetfelt med feltstyrke $B$ med retning vertikalt på figuren. Sløyfa roteres med håndmakt med konstant vinkelfart $\\omega$ om midtpunktet til sløyfa (stiplet linje på figuren). $\\phi(t)$ er vinkelen mellom sløyfas normalvektor og magnetfeltet ved tid $t$.\n",
    "\n",
    "<center><img src=\"figurer/oppgave_generator_magnetfelt.png\" alt=\"\" style=\"width: 210px;\"/></center>\n",
    "\n",
    "Hvilke påstander er riktige:\n",
    "\n",
    "A.\tAbsoluttverdien av den induserte emsen i generatoren er $|NBA \\omega \\sin \\omega t|$\n",
    "\n",
    "B.\tAbsoluttverdien av den induserte emsen i generatoren er $|NBA \\omega \\cos \\omega t|$\n",
    "\n",
    "C.\tAbsoluttverdien av den induserte emsen i sløyfa er konstant\n",
    "\n",
    "D.\tAbsoluttverdien av den induserte emsen i sløyfa er størst når normalvektoren og magnetfeltet står vinkelrett på hverandre, dvs. for $\\phi=n \\cdot \\frac{\\pi}{2}, n=1,2,3,...$\n",
    "\n",
    "E.\tAbsoluttverdien av den induserte emsen i sløyfa er størst når normalvektoren og magnetfeltet er parallelle, dvs. for $\\phi=n \\cdot 2\\pi, n=0,1,2,3,...$\n",
    "\n",
    "F.\tTiden for ett omløp av sløyfa er $t=\\frac{2 \\pi}{\\omega}$ \n"
   ]
  }
 ],
 "metadata": {
  "language_info": {
   "name": "python"
  }
 },
 "nbformat": 4,
 "nbformat_minor": 2
}
