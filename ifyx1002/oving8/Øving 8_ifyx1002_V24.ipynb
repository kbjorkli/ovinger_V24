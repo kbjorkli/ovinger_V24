{
 "cells": [
  {
   "cell_type": "markdown",
   "metadata": {},
   "source": [
    "# Øving 8 IFYX1002\n",
    "## Oppgave 1\n",
    "To positive punktladninger  $+4q$  og $+q$ er plasserte en avstand $a$ fra hverandre. Se figuren under.\n",
    "\n",
    "<center><img src=\"figurer/oppgave_to_punktladninger_bestem_punkt_null_felt.png\" alt=\"\" style=\"width: 400px;\"/></center>\n",
    "\n",
    "Mellom disse to punktladningene finnes det et punkt P hvor det totale elektriske feltet er lik null. Bestem hvor langt unna ladningen $+4q$ dette punktet befinner seg.\n",
    "\n"
   ]
  },
  {
   "cell_type": "markdown",
   "metadata": {},
   "source": [
    "## Oppgave 2\n",
    "En punktladning $+q$  er plassert på $x$-aksen i $(2a,0)$, og en annen punktladning $+2q$  er plassert på $y$-aksen i $(0,a)$. Se figuren under.\n",
    "\n",
    "<center><img src=\"figurer/oppgave_to_punktladninger_bestem_felt.png\" alt=\"\" style=\"width: 400px;\"/></center>\n",
    "\n",
    "Bestem det resulterende elektriske feltet $\\vec{E}$ i origo:\n",
    "\n",
    "a) Verdi, uttrykt ved $a$ og $q$\n",
    "\n",
    "b) Retningen"
   ]
  },
  {
   "cell_type": "markdown",
   "metadata": {},
   "source": [
    "## Oppgave 3\n",
    "To små kuler med masse $m=15 \\textrm{ g}$  henger i hver sin tynne tråd med lengde $L=1,2 \\textrm{ m}$, som er festet i taket i et felles opphengingspunkt. De to kulene har lik ladning $+Q$, og begge snorene danner en vinkel $\\theta=25 ^{\\circ}$ med vertikalen. Se figuren under.\n",
    "\n",
    "<center><img src=\"figurer/oppgave_to_kuler_snor.png\" alt=\"\" style=\"width: 400px;\"/></center>\n",
    "\n",
    "a) Bestem ladningen $Q$ til de to kulene.\n",
    "\n",
    "b) Hvis vi betrakter kulene som punktladninger, bestem det elektriske potensialet i det felles opphengingspunktet for snorene fra ladningen på kulene, uttrykt ved $Q$, $L$ og evt. $\\theta$. \n"
   ]
  },
  {
   "cell_type": "markdown",
   "metadata": {},
   "source": [
    "## Oppgave 4\n",
    "I en blekkskriver blir blekkdråper med masse $m= 1,4 \\cdot 10^{-8} \\textrm{ kg}$ og horisontal fart $v_0=20 \\textrm{ m/s}$ tilført en elektrisk ladning $q$, og styres mot papiret ved hjelp av et homogent elektrisk felt mellom to metallplater. Metallplatene har lengde $L=2,0 \\textrm{ cm}$ og den elektriske feltstyrken mellom platene er $E=8,0 \\cdot 10^4 \\textrm{ N/C}$. Se figuren under.\n",
    "\n",
    "<center><img src=\"figurer/oppgave_blekkskriver_elektrisk_felt.png\" alt=\"\" style=\"width: 400px;\"/></center>\n",
    "\n",
    "Hva er ladningen til en blekkdråpe som avbøyes vertikalt en avstand $y=0,30 \\textrm{ mm}$? Tyngdekraften på blekkdråpen kan neglisjeres.\n",
    "\n"
   ]
  }
 ],
 "metadata": {
  "kernelspec": {
   "display_name": "Python 3",
   "language": "python",
   "name": "python3"
  },
  "language_info": {
   "codemirror_mode": {
    "name": "ipython",
    "version": 3
   },
   "file_extension": ".py",
   "mimetype": "text/x-python",
   "name": "python",
   "nbconvert_exporter": "python",
   "pygments_lexer": "ipython3",
   "version": "3.8.5"
  },
  "vscode": {
   "interpreter": {
    "hash": "551ea7ae10b114133e2fbac23ef1e8e3e30b0e580eb9fe1d9fc046518af6d1fa"
   }
  }
 },
 "nbformat": 4,
 "nbformat_minor": 2
}
